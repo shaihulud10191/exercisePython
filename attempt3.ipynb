{
 "cells": [
  {
   "cell_type": "code",
   "execution_count": 10,
   "metadata": {},
   "outputs": [],
   "source": [
    "import pandas as pd\n",
    "from datetime import datetime, timedelta #easier to work with datetime objects than to work with strings"
   ]
  },
  {
   "cell_type": "code",
   "execution_count": 3,
   "metadata": {},
   "outputs": [],
   "source": [
    "origin = pd.ExcelFile(\"/home/shaihulud10191/codestuff/exercisePython/simplerName.xlsx\")\n",
    "firstHalf = origin.parse('Year 2009-2010') #parse first sheet \n",
    "secondHalf = origin.parse('Year 2010-2011') #parse second sheet"
   ]
  },
  {
   "cell_type": "code",
   "execution_count": 4,
   "metadata": {},
   "outputs": [],
   "source": [
    "file = pd.concat([firstHalf, secondHalf]) #join the two dataframes together\n",
    "file.replace({'Quantity': {'': pd.NA}, 'Price': {'': pd.NA}}, inplace=True)\n",
    "file.dropna(subset=['Quantity', 'Price'], inplace=True)# drop rows with NaN values in columns A and B"
   ]
  },
  {
   "cell_type": "code",
   "execution_count": 6,
   "metadata": {},
   "outputs": [],
   "source": [
    "shot = file[['StockCode', 'Description', 'Quantity', 'Price', 'InvoiceDate']]"
   ]
  },
  {
   "cell_type": "code",
   "execution_count": 8,
   "metadata": {},
   "outputs": [],
   "source": [
    "shot.insert(loc = 5, column = 'TotalSales', value = 0)"
   ]
  },
  {
   "cell_type": "code",
   "execution_count": 11,
   "metadata": {},
   "outputs": [
    {
     "name": "stderr",
     "output_type": "stream",
     "text": [
      "/tmp/ipykernel_5972/2387654239.py:1: SettingWithCopyWarning: \n",
      "A value is trying to be set on a copy of a slice from a DataFrame.\n",
      "Try using .loc[row_indexer,col_indexer] = value instead\n",
      "\n",
      "See the caveats in the documentation: https://pandas.pydata.org/pandas-docs/stable/user_guide/indexing.html#returning-a-view-versus-a-copy\n",
      "  shot['when'] = pd.to_datetime(shot['InvoiceDate'], format='%Y-%m-%d').dt.date\n"
     ]
    }
   ],
   "source": [
    "shot['when'] = pd.to_datetime(shot['InvoiceDate'], format='%Y-%m-%d').dt.date"
   ]
  },
  {
   "cell_type": "code",
   "execution_count": 14,
   "metadata": {},
   "outputs": [
    {
     "data": {
      "text/html": [
       "<div>\n",
       "<style scoped>\n",
       "    .dataframe tbody tr th:only-of-type {\n",
       "        vertical-align: middle;\n",
       "    }\n",
       "\n",
       "    .dataframe tbody tr th {\n",
       "        vertical-align: top;\n",
       "    }\n",
       "\n",
       "    .dataframe thead th {\n",
       "        text-align: right;\n",
       "    }\n",
       "</style>\n",
       "<table border=\"1\" class=\"dataframe\">\n",
       "  <thead>\n",
       "    <tr style=\"text-align: right;\">\n",
       "      <th></th>\n",
       "      <th>StockCode</th>\n",
       "      <th>Description</th>\n",
       "      <th>Quantity</th>\n",
       "      <th>InvoiceDate</th>\n",
       "      <th>TotalSales</th>\n",
       "      <th>when</th>\n",
       "    </tr>\n",
       "  </thead>\n",
       "  <tbody>\n",
       "    <tr>\n",
       "      <th>0</th>\n",
       "      <td>85048</td>\n",
       "      <td>15CM CHRISTMAS GLASS BALL 20 LIGHTS</td>\n",
       "      <td>12</td>\n",
       "      <td>2009-12-01 07:45:00</td>\n",
       "      <td>0</td>\n",
       "      <td>2009-12-01</td>\n",
       "    </tr>\n",
       "    <tr>\n",
       "      <th>1</th>\n",
       "      <td>79323P</td>\n",
       "      <td>PINK CHERRY LIGHTS</td>\n",
       "      <td>12</td>\n",
       "      <td>2009-12-01 07:45:00</td>\n",
       "      <td>0</td>\n",
       "      <td>2009-12-01</td>\n",
       "    </tr>\n",
       "    <tr>\n",
       "      <th>2</th>\n",
       "      <td>79323W</td>\n",
       "      <td>WHITE CHERRY LIGHTS</td>\n",
       "      <td>12</td>\n",
       "      <td>2009-12-01 07:45:00</td>\n",
       "      <td>0</td>\n",
       "      <td>2009-12-01</td>\n",
       "    </tr>\n",
       "    <tr>\n",
       "      <th>3</th>\n",
       "      <td>22041</td>\n",
       "      <td>RECORD FRAME 7\" SINGLE SIZE</td>\n",
       "      <td>48</td>\n",
       "      <td>2009-12-01 07:45:00</td>\n",
       "      <td>0</td>\n",
       "      <td>2009-12-01</td>\n",
       "    </tr>\n",
       "    <tr>\n",
       "      <th>4</th>\n",
       "      <td>21232</td>\n",
       "      <td>STRAWBERRY CERAMIC TRINKET BOX</td>\n",
       "      <td>24</td>\n",
       "      <td>2009-12-01 07:45:00</td>\n",
       "      <td>0</td>\n",
       "      <td>2009-12-01</td>\n",
       "    </tr>\n",
       "    <tr>\n",
       "      <th>...</th>\n",
       "      <td>...</td>\n",
       "      <td>...</td>\n",
       "      <td>...</td>\n",
       "      <td>...</td>\n",
       "      <td>...</td>\n",
       "      <td>...</td>\n",
       "    </tr>\n",
       "    <tr>\n",
       "      <th>541905</th>\n",
       "      <td>22899</td>\n",
       "      <td>CHILDREN'S APRON DOLLY GIRL</td>\n",
       "      <td>6</td>\n",
       "      <td>2011-12-09 12:50:00</td>\n",
       "      <td>0</td>\n",
       "      <td>2011-12-09</td>\n",
       "    </tr>\n",
       "    <tr>\n",
       "      <th>541906</th>\n",
       "      <td>23254</td>\n",
       "      <td>CHILDRENS CUTLERY DOLLY GIRL</td>\n",
       "      <td>4</td>\n",
       "      <td>2011-12-09 12:50:00</td>\n",
       "      <td>0</td>\n",
       "      <td>2011-12-09</td>\n",
       "    </tr>\n",
       "    <tr>\n",
       "      <th>541907</th>\n",
       "      <td>23255</td>\n",
       "      <td>CHILDRENS CUTLERY CIRCUS PARADE</td>\n",
       "      <td>4</td>\n",
       "      <td>2011-12-09 12:50:00</td>\n",
       "      <td>0</td>\n",
       "      <td>2011-12-09</td>\n",
       "    </tr>\n",
       "    <tr>\n",
       "      <th>541908</th>\n",
       "      <td>22138</td>\n",
       "      <td>BAKING SET 9 PIECE RETROSPOT</td>\n",
       "      <td>3</td>\n",
       "      <td>2011-12-09 12:50:00</td>\n",
       "      <td>0</td>\n",
       "      <td>2011-12-09</td>\n",
       "    </tr>\n",
       "    <tr>\n",
       "      <th>541909</th>\n",
       "      <td>POST</td>\n",
       "      <td>POSTAGE</td>\n",
       "      <td>1</td>\n",
       "      <td>2011-12-09 12:50:00</td>\n",
       "      <td>0</td>\n",
       "      <td>2011-12-09</td>\n",
       "    </tr>\n",
       "  </tbody>\n",
       "</table>\n",
       "<p>1067371 rows × 6 columns</p>\n",
       "</div>"
      ],
      "text/plain": [
       "       StockCode                          Description  Quantity   \n",
       "0          85048  15CM CHRISTMAS GLASS BALL 20 LIGHTS        12  \\\n",
       "1         79323P                   PINK CHERRY LIGHTS        12   \n",
       "2         79323W                  WHITE CHERRY LIGHTS        12   \n",
       "3          22041         RECORD FRAME 7\" SINGLE SIZE         48   \n",
       "4          21232       STRAWBERRY CERAMIC TRINKET BOX        24   \n",
       "...          ...                                  ...       ...   \n",
       "541905     22899         CHILDREN'S APRON DOLLY GIRL          6   \n",
       "541906     23254        CHILDRENS CUTLERY DOLLY GIRL          4   \n",
       "541907     23255      CHILDRENS CUTLERY CIRCUS PARADE         4   \n",
       "541908     22138        BAKING SET 9 PIECE RETROSPOT          3   \n",
       "541909      POST                              POSTAGE         1   \n",
       "\n",
       "               InvoiceDate  TotalSales        when  \n",
       "0      2009-12-01 07:45:00           0  2009-12-01  \n",
       "1      2009-12-01 07:45:00           0  2009-12-01  \n",
       "2      2009-12-01 07:45:00           0  2009-12-01  \n",
       "3      2009-12-01 07:45:00           0  2009-12-01  \n",
       "4      2009-12-01 07:45:00           0  2009-12-01  \n",
       "...                    ...         ...         ...  \n",
       "541905 2011-12-09 12:50:00           0  2011-12-09  \n",
       "541906 2011-12-09 12:50:00           0  2011-12-09  \n",
       "541907 2011-12-09 12:50:00           0  2011-12-09  \n",
       "541908 2011-12-09 12:50:00           0  2011-12-09  \n",
       "541909 2011-12-09 12:50:00           0  2011-12-09  \n",
       "\n",
       "[1067371 rows x 6 columns]"
      ]
     },
     "execution_count": 14,
     "metadata": {},
     "output_type": "execute_result"
    }
   ],
   "source": [
    "shot.drop(columns = 'InvoiceDate')\n",
    "shot.drop(columns = 'Price')"
   ]
  },
  {
   "cell_type": "code",
   "execution_count": 15,
   "metadata": {},
   "outputs": [],
   "source": [
    "backup = shot.copy()"
   ]
  },
  {
   "cell_type": "code",
   "execution_count": 29,
   "metadata": {},
   "outputs": [],
   "source": [
    "outputMaybe = pd.DataFrame(shot.groupby(['StockCode', 'when', 'Description']).agg({'Quantity': 'sum'}).reset_index())"
   ]
  },
  {
   "cell_type": "code",
   "execution_count": 33,
   "metadata": {},
   "outputs": [],
   "source": [
    "mask = pd.DataFrame(outputMaybe['StockCode'].unique())"
   ]
  },
  {
   "cell_type": "code",
   "execution_count": 34,
   "metadata": {},
   "outputs": [],
   "source": [
    "outputMaybeBackup = outputMaybe.copy()"
   ]
  },
  {
   "cell_type": "code",
   "execution_count": 52,
   "metadata": {},
   "outputs": [],
   "source": [
    "outputMaybeBackup = outputMaybeBackup.rename(columns={'Unnamed: 0': 'count'})"
   ]
  },
  {
   "cell_type": "code",
   "execution_count": 66,
   "metadata": {},
   "outputs": [],
   "source": [
    "outputMaybeBackup['when'] = pd.to_datetime(outputMaybeBackup['when'], format='%Y-%m-%d', errors='coerce')\n",
    "\n"
   ]
  },
  {
   "cell_type": "code",
   "execution_count": 67,
   "metadata": {},
   "outputs": [
    {
     "name": "stdout",
     "output_type": "stream",
     "text": [
      "datetime64[ns]\n"
     ]
    }
   ],
   "source": [
    "print(outputMaybeBackup['when'].dtype)"
   ]
  },
  {
   "cell_type": "code",
   "execution_count": 68,
   "metadata": {},
   "outputs": [
    {
     "data": {
      "text/plain": [
       "0        2009-12-01\n",
       "1        2009-12-03\n",
       "2        2009-12-04\n",
       "3        2009-12-06\n",
       "4        2009-12-07\n",
       "            ...    \n",
       "541589   2010-01-14\n",
       "541590   2010-02-19\n",
       "541591   2010-04-13\n",
       "541592   2010-06-08\n",
       "541593   2010-12-21\n",
       "Name: when, Length: 541594, dtype: datetime64[ns]"
      ]
     },
     "execution_count": 68,
     "metadata": {},
     "output_type": "execute_result"
    }
   ],
   "source": [
    "outputMaybeBackup.replace({'when': {'': pd.NA}}, inplace=True)\n",
    "outputMaybeBackup.replace({'when': {0: pd.NA}}, inplace=True)\n",
    "outputMaybeBackup['when'].dropna()"
   ]
  },
  {
   "cell_type": "code",
   "execution_count": 72,
   "metadata": {},
   "outputs": [],
   "source": [
    "outputMaybeBackup['when'] = pd.to_datetime(outputMaybeBackup['when'], errors='coerce')\n",
    "outputMaybeBackup = outputMaybeBackup.dropna(subset=['when'])"
   ]
  },
  {
   "cell_type": "code",
   "execution_count": 74,
   "metadata": {},
   "outputs": [],
   "source": [
    "grouped = outputMaybeBackup.groupby(['StockCode', 'when'])['Quantity'].sum().reset_index()\n",
    "\n",
    "unique_codes = outputMaybeBackup['StockCode'].unique()\n",
    "unique_dates = outputMaybeBackup['when'].dropna().astype(str).unique()\n",
    "\n",
    "idx = pd.MultiIndex.from_product([unique_codes, unique_dates], names=['StockCode', 'when'])\n",
    "\n",
    "result = grouped.set_index(['StockCode', 'when']).reindex(idx, fill_value=0).reset_index()\n"
   ]
  },
  {
   "cell_type": "code",
   "execution_count": 78,
   "metadata": {},
   "outputs": [
    {
     "data": {
      "text/html": [
       "<div>\n",
       "<style scoped>\n",
       "    .dataframe tbody tr th:only-of-type {\n",
       "        vertical-align: middle;\n",
       "    }\n",
       "\n",
       "    .dataframe tbody tr th {\n",
       "        vertical-align: top;\n",
       "    }\n",
       "\n",
       "    .dataframe thead th {\n",
       "        text-align: right;\n",
       "    }\n",
       "</style>\n",
       "<table border=\"1\" class=\"dataframe\">\n",
       "  <thead>\n",
       "    <tr style=\"text-align: right;\">\n",
       "      <th></th>\n",
       "      <th>StockCode</th>\n",
       "      <th>when</th>\n",
       "      <th>Quantity</th>\n",
       "    </tr>\n",
       "  </thead>\n",
       "  <tbody>\n",
       "  </tbody>\n",
       "</table>\n",
       "</div>"
      ],
      "text/plain": [
       "Empty DataFrame\n",
       "Columns: [StockCode, when, Quantity]\n",
       "Index: []"
      ]
     },
     "execution_count": 78,
     "metadata": {},
     "output_type": "execute_result"
    }
   ],
   "source": []
  },
  {
   "cell_type": "code",
   "execution_count": 77,
   "metadata": {},
   "outputs": [
    {
     "data": {
      "text/html": [
       "<div>\n",
       "<style scoped>\n",
       "    .dataframe tbody tr th:only-of-type {\n",
       "        vertical-align: middle;\n",
       "    }\n",
       "\n",
       "    .dataframe tbody tr th {\n",
       "        vertical-align: top;\n",
       "    }\n",
       "\n",
       "    .dataframe thead th {\n",
       "        text-align: right;\n",
       "    }\n",
       "</style>\n",
       "<table border=\"1\" class=\"dataframe\">\n",
       "  <thead>\n",
       "    <tr style=\"text-align: right;\">\n",
       "      <th></th>\n",
       "      <th>StockCode</th>\n",
       "      <th>when</th>\n",
       "      <th>Description</th>\n",
       "      <th>Quantity</th>\n",
       "    </tr>\n",
       "  </thead>\n",
       "  <tbody>\n",
       "    <tr>\n",
       "      <th>0</th>\n",
       "      <td>10002</td>\n",
       "      <td>2009-12-01</td>\n",
       "      <td>INFLATABLE POLITICAL GLOBE</td>\n",
       "      <td>12</td>\n",
       "    </tr>\n",
       "    <tr>\n",
       "      <th>1</th>\n",
       "      <td>10002</td>\n",
       "      <td>2009-12-03</td>\n",
       "      <td>INFLATABLE POLITICAL GLOBE</td>\n",
       "      <td>7</td>\n",
       "    </tr>\n",
       "    <tr>\n",
       "      <th>2</th>\n",
       "      <td>10002</td>\n",
       "      <td>2009-12-04</td>\n",
       "      <td>INFLATABLE POLITICAL GLOBE</td>\n",
       "      <td>73</td>\n",
       "    </tr>\n",
       "    <tr>\n",
       "      <th>3</th>\n",
       "      <td>10002</td>\n",
       "      <td>2009-12-06</td>\n",
       "      <td>INFLATABLE POLITICAL GLOBE</td>\n",
       "      <td>49</td>\n",
       "    </tr>\n",
       "    <tr>\n",
       "      <th>4</th>\n",
       "      <td>10002</td>\n",
       "      <td>2009-12-07</td>\n",
       "      <td>INFLATABLE POLITICAL GLOBE</td>\n",
       "      <td>2</td>\n",
       "    </tr>\n",
       "    <tr>\n",
       "      <th>...</th>\n",
       "      <td>...</td>\n",
       "      <td>...</td>\n",
       "      <td>...</td>\n",
       "      <td>...</td>\n",
       "    </tr>\n",
       "    <tr>\n",
       "      <th>541589</th>\n",
       "      <td>gift_0001_80</td>\n",
       "      <td>2010-01-14</td>\n",
       "      <td>Dotcomgiftshop Gift Voucher £80.00</td>\n",
       "      <td>-1</td>\n",
       "    </tr>\n",
       "    <tr>\n",
       "      <th>541590</th>\n",
       "      <td>m</td>\n",
       "      <td>2010-02-19</td>\n",
       "      <td>Manual</td>\n",
       "      <td>2</td>\n",
       "    </tr>\n",
       "    <tr>\n",
       "      <th>541591</th>\n",
       "      <td>m</td>\n",
       "      <td>2010-04-13</td>\n",
       "      <td>Manual</td>\n",
       "      <td>1</td>\n",
       "    </tr>\n",
       "    <tr>\n",
       "      <th>541592</th>\n",
       "      <td>m</td>\n",
       "      <td>2010-06-08</td>\n",
       "      <td>Manual</td>\n",
       "      <td>1</td>\n",
       "    </tr>\n",
       "    <tr>\n",
       "      <th>541593</th>\n",
       "      <td>m</td>\n",
       "      <td>2010-12-21</td>\n",
       "      <td>Manual</td>\n",
       "      <td>1</td>\n",
       "    </tr>\n",
       "  </tbody>\n",
       "</table>\n",
       "<p>541594 rows × 4 columns</p>\n",
       "</div>"
      ],
      "text/plain": [
       "           StockCode       when                         Description  Quantity\n",
       "0              10002 2009-12-01         INFLATABLE POLITICAL GLOBE         12\n",
       "1              10002 2009-12-03         INFLATABLE POLITICAL GLOBE          7\n",
       "2              10002 2009-12-04         INFLATABLE POLITICAL GLOBE         73\n",
       "3              10002 2009-12-06         INFLATABLE POLITICAL GLOBE         49\n",
       "4              10002 2009-12-07         INFLATABLE POLITICAL GLOBE          2\n",
       "...              ...        ...                                 ...       ...\n",
       "541589  gift_0001_80 2010-01-14  Dotcomgiftshop Gift Voucher £80.00        -1\n",
       "541590             m 2010-02-19                              Manual         2\n",
       "541591             m 2010-04-13                              Manual         1\n",
       "541592             m 2010-06-08                              Manual         1\n",
       "541593             m 2010-12-21                              Manual         1\n",
       "\n",
       "[541594 rows x 4 columns]"
      ]
     },
     "execution_count": 77,
     "metadata": {},
     "output_type": "execute_result"
    }
   ],
   "source": []
  }
 ],
 "metadata": {
  "kernelspec": {
   "display_name": "Python 3",
   "language": "python",
   "name": "python3"
  },
  "language_info": {
   "codemirror_mode": {
    "name": "ipython",
    "version": 3
   },
   "file_extension": ".py",
   "mimetype": "text/x-python",
   "name": "python",
   "nbconvert_exporter": "python",
   "pygments_lexer": "ipython3",
   "version": "3.10.6"
  },
  "orig_nbformat": 4
 },
 "nbformat": 4,
 "nbformat_minor": 2
}
