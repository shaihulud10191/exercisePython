{
 "cells": [
  {
   "attachments": {},
   "cell_type": "markdown",
   "metadata": {},
   "source": [
    "To do:\n",
    "\n",
    "Create a csv file with columns InvoiceDt, stockCode, Description, Total sales\n",
    "\n",
    "Perform imputation (if a product was not sold on a date then there must a zero in total sales)\n",
    "\n",
    "Total sales ISN'T the quantity times the price, it is the total quantity of a product sold on a particular day.\n",
    "\n",
    "Generate total sales for each day."
   ]
  },
  {
   "cell_type": "code",
   "execution_count": 137,
   "metadata": {},
   "outputs": [],
   "source": [
    "import pandas as pd\n",
    "#delete trial, pqs, selected_rows, firstHalf, secondHalf, newTrial, grouped"
   ]
  },
  {
   "cell_type": "code",
   "execution_count": 138,
   "metadata": {},
   "outputs": [],
   "source": [
    "origin = pd.ExcelFile(\"/home/shaihulud10191/codestuff/exercisePython/simplerName.xlsx\")\n",
    "firstHalf = origin.parse('Year 2009-2010') #parse first sheet \n",
    "secondHalf = origin.parse('Year 2010-2011') #parse second sheet\n"
   ]
  },
  {
   "cell_type": "code",
   "execution_count": 139,
   "metadata": {},
   "outputs": [],
   "source": [
    "file = pd.concat([firstHalf, secondHalf]) #join the two dataframes together\n",
    "file.replace({'Quantity': {'': pd.NA}, 'Price': {'': pd.NA}}, inplace=True)\n",
    "file.dropna(subset=['Quantity', 'Price'], inplace=True)# drop rows with NaN values in columns A and B"
   ]
  },
  {
   "cell_type": "code",
   "execution_count": null,
   "metadata": {},
   "outputs": [],
   "source": []
  },
  {
   "cell_type": "code",
   "execution_count": 140,
   "metadata": {},
   "outputs": [],
   "source": [
    "pqs = file[['StockCode', 'Quantity', 'Price', 'InvoiceDate']]\n"
   ]
  },
  {
   "cell_type": "code",
   "execution_count": 141,
   "metadata": {},
   "outputs": [],
   "source": [
    "pqs.insert(loc = 4, column = 'TotalSales', value = 0)\n",
    "pqs.insert(loc = 5, column = 'Profit', value = 0)"
   ]
  },
  {
   "cell_type": "code",
   "execution_count": 142,
   "metadata": {},
   "outputs": [],
   "source": [
    "trial = pqs"
   ]
  },
  {
   "cell_type": "code",
   "execution_count": 143,
   "metadata": {},
   "outputs": [
    {
     "name": "stderr",
     "output_type": "stream",
     "text": [
      "/tmp/ipykernel_102144/2225062995.py:2: SettingWithCopyWarning: \n",
      "A value is trying to be set on a copy of a slice from a DataFrame.\n",
      "Try using .loc[row_indexer,col_indexer] = value instead\n",
      "\n",
      "See the caveats in the documentation: https://pandas.pydata.org/pandas-docs/stable/user_guide/indexing.html#returning-a-view-versus-a-copy\n",
      "  trial['when'] = pd.to_datetime(trial['InvoiceDate'], format='%Y-%m-%d %H:%M:%S') #converting strings to datetime objects and assigning them to a column\n"
     ]
    }
   ],
   "source": [
    "from datetime import datetime, timedelta #easier to work with datetime objects than to work with strings\n",
    "trial['when'] = pd.to_datetime(trial['InvoiceDate'], format='%Y-%m-%d %H:%M:%S') #converting strings to datetime objects and assigning them to a column"
   ]
  },
  {
   "cell_type": "code",
   "execution_count": 144,
   "metadata": {},
   "outputs": [],
   "source": [
    "trial['date'] = trial['when'].dt.date\n",
    "trial = trial[['StockCode', 'Quantity', 'Price', 'date', 'TotalSales', 'Profit', 'when', 'InvoiceDate']]\n",
    "trial = trial[['StockCode', 'Quantity', 'Price', 'date', 'TotalSales', 'Profit']]\n"
   ]
  },
  {
   "cell_type": "code",
   "execution_count": 145,
   "metadata": {},
   "outputs": [
    {
     "data": {
      "text/html": [
       "<div>\n",
       "<style scoped>\n",
       "    .dataframe tbody tr th:only-of-type {\n",
       "        vertical-align: middle;\n",
       "    }\n",
       "\n",
       "    .dataframe tbody tr th {\n",
       "        vertical-align: top;\n",
       "    }\n",
       "\n",
       "    .dataframe thead th {\n",
       "        text-align: right;\n",
       "    }\n",
       "</style>\n",
       "<table border=\"1\" class=\"dataframe\">\n",
       "  <thead>\n",
       "    <tr style=\"text-align: right;\">\n",
       "      <th></th>\n",
       "      <th>StockCode</th>\n",
       "      <th>Quantity</th>\n",
       "      <th>Price</th>\n",
       "      <th>InvoiceDate</th>\n",
       "      <th>TotalSales</th>\n",
       "      <th>Profit</th>\n",
       "      <th>when</th>\n",
       "      <th>date</th>\n",
       "    </tr>\n",
       "  </thead>\n",
       "  <tbody>\n",
       "    <tr>\n",
       "      <th>0</th>\n",
       "      <td>85048</td>\n",
       "      <td>12</td>\n",
       "      <td>6.95</td>\n",
       "      <td>2009-12-01 07:45:00</td>\n",
       "      <td>0</td>\n",
       "      <td>0</td>\n",
       "      <td>2009-12-01 07:45:00</td>\n",
       "      <td>2009-12-01</td>\n",
       "    </tr>\n",
       "    <tr>\n",
       "      <th>1</th>\n",
       "      <td>79323P</td>\n",
       "      <td>12</td>\n",
       "      <td>6.75</td>\n",
       "      <td>2009-12-01 07:45:00</td>\n",
       "      <td>0</td>\n",
       "      <td>0</td>\n",
       "      <td>2009-12-01 07:45:00</td>\n",
       "      <td>2009-12-01</td>\n",
       "    </tr>\n",
       "    <tr>\n",
       "      <th>2</th>\n",
       "      <td>79323W</td>\n",
       "      <td>12</td>\n",
       "      <td>6.75</td>\n",
       "      <td>2009-12-01 07:45:00</td>\n",
       "      <td>0</td>\n",
       "      <td>0</td>\n",
       "      <td>2009-12-01 07:45:00</td>\n",
       "      <td>2009-12-01</td>\n",
       "    </tr>\n",
       "    <tr>\n",
       "      <th>3</th>\n",
       "      <td>22041</td>\n",
       "      <td>48</td>\n",
       "      <td>2.10</td>\n",
       "      <td>2009-12-01 07:45:00</td>\n",
       "      <td>0</td>\n",
       "      <td>0</td>\n",
       "      <td>2009-12-01 07:45:00</td>\n",
       "      <td>2009-12-01</td>\n",
       "    </tr>\n",
       "    <tr>\n",
       "      <th>4</th>\n",
       "      <td>21232</td>\n",
       "      <td>24</td>\n",
       "      <td>1.25</td>\n",
       "      <td>2009-12-01 07:45:00</td>\n",
       "      <td>0</td>\n",
       "      <td>0</td>\n",
       "      <td>2009-12-01 07:45:00</td>\n",
       "      <td>2009-12-01</td>\n",
       "    </tr>\n",
       "    <tr>\n",
       "      <th>...</th>\n",
       "      <td>...</td>\n",
       "      <td>...</td>\n",
       "      <td>...</td>\n",
       "      <td>...</td>\n",
       "      <td>...</td>\n",
       "      <td>...</td>\n",
       "      <td>...</td>\n",
       "      <td>...</td>\n",
       "    </tr>\n",
       "    <tr>\n",
       "      <th>541905</th>\n",
       "      <td>22899</td>\n",
       "      <td>6</td>\n",
       "      <td>2.10</td>\n",
       "      <td>2011-12-09 12:50:00</td>\n",
       "      <td>0</td>\n",
       "      <td>0</td>\n",
       "      <td>2011-12-09 12:50:00</td>\n",
       "      <td>2011-12-09</td>\n",
       "    </tr>\n",
       "    <tr>\n",
       "      <th>541906</th>\n",
       "      <td>23254</td>\n",
       "      <td>4</td>\n",
       "      <td>4.15</td>\n",
       "      <td>2011-12-09 12:50:00</td>\n",
       "      <td>0</td>\n",
       "      <td>0</td>\n",
       "      <td>2011-12-09 12:50:00</td>\n",
       "      <td>2011-12-09</td>\n",
       "    </tr>\n",
       "    <tr>\n",
       "      <th>541907</th>\n",
       "      <td>23255</td>\n",
       "      <td>4</td>\n",
       "      <td>4.15</td>\n",
       "      <td>2011-12-09 12:50:00</td>\n",
       "      <td>0</td>\n",
       "      <td>0</td>\n",
       "      <td>2011-12-09 12:50:00</td>\n",
       "      <td>2011-12-09</td>\n",
       "    </tr>\n",
       "    <tr>\n",
       "      <th>541908</th>\n",
       "      <td>22138</td>\n",
       "      <td>3</td>\n",
       "      <td>4.95</td>\n",
       "      <td>2011-12-09 12:50:00</td>\n",
       "      <td>0</td>\n",
       "      <td>0</td>\n",
       "      <td>2011-12-09 12:50:00</td>\n",
       "      <td>2011-12-09</td>\n",
       "    </tr>\n",
       "    <tr>\n",
       "      <th>541909</th>\n",
       "      <td>POST</td>\n",
       "      <td>1</td>\n",
       "      <td>18.00</td>\n",
       "      <td>2011-12-09 12:50:00</td>\n",
       "      <td>0</td>\n",
       "      <td>0</td>\n",
       "      <td>2011-12-09 12:50:00</td>\n",
       "      <td>2011-12-09</td>\n",
       "    </tr>\n",
       "  </tbody>\n",
       "</table>\n",
       "<p>1067371 rows × 8 columns</p>\n",
       "</div>"
      ],
      "text/plain": [
       "       StockCode  Quantity  Price         InvoiceDate  TotalSales  Profit   \n",
       "0          85048        12   6.95 2009-12-01 07:45:00           0       0  \\\n",
       "1         79323P        12   6.75 2009-12-01 07:45:00           0       0   \n",
       "2         79323W        12   6.75 2009-12-01 07:45:00           0       0   \n",
       "3          22041        48   2.10 2009-12-01 07:45:00           0       0   \n",
       "4          21232        24   1.25 2009-12-01 07:45:00           0       0   \n",
       "...          ...       ...    ...                 ...         ...     ...   \n",
       "541905     22899         6   2.10 2011-12-09 12:50:00           0       0   \n",
       "541906     23254         4   4.15 2011-12-09 12:50:00           0       0   \n",
       "541907     23255         4   4.15 2011-12-09 12:50:00           0       0   \n",
       "541908     22138         3   4.95 2011-12-09 12:50:00           0       0   \n",
       "541909      POST         1  18.00 2011-12-09 12:50:00           0       0   \n",
       "\n",
       "                      when        date  \n",
       "0      2009-12-01 07:45:00  2009-12-01  \n",
       "1      2009-12-01 07:45:00  2009-12-01  \n",
       "2      2009-12-01 07:45:00  2009-12-01  \n",
       "3      2009-12-01 07:45:00  2009-12-01  \n",
       "4      2009-12-01 07:45:00  2009-12-01  \n",
       "...                    ...         ...  \n",
       "541905 2011-12-09 12:50:00  2011-12-09  \n",
       "541906 2011-12-09 12:50:00  2011-12-09  \n",
       "541907 2011-12-09 12:50:00  2011-12-09  \n",
       "541908 2011-12-09 12:50:00  2011-12-09  \n",
       "541909 2011-12-09 12:50:00  2011-12-09  \n",
       "\n",
       "[1067371 rows x 8 columns]"
      ]
     },
     "execution_count": 145,
     "metadata": {},
     "output_type": "execute_result"
    }
   ],
   "source": [
    "backup = pqs.copy()\n",
    "backup"
   ]
  },
  {
   "cell_type": "code",
   "execution_count": 146,
   "metadata": {},
   "outputs": [],
   "source": [
    "outputMaybe = trial.groupby(['StockCode', 'date'])['Quantity'].sum()"
   ]
  },
  {
   "cell_type": "code",
   "execution_count": 154,
   "metadata": {},
   "outputs": [],
   "source": [
    "final = outputMaybe.to_frame()"
   ]
  },
  {
   "cell_type": "code",
   "execution_count": 155,
   "metadata": {},
   "outputs": [],
   "source": [
    "final.rename(columns={'Quantity': 'TotalSales'}, inplace = True)"
   ]
  },
  {
   "cell_type": "code",
   "execution_count": 156,
   "metadata": {},
   "outputs": [],
   "source": [
    "final.sort_values('date', inplace = True)"
   ]
  },
  {
   "cell_type": "code",
   "execution_count": 173,
   "metadata": {},
   "outputs": [
    {
     "name": "stderr",
     "output_type": "stream",
     "text": [
      "/tmp/ipykernel_102144/4080009192.py:1: DtypeWarning: Columns (0) have mixed types. Specify dtype option on import or set low_memory=False.\n",
      "  finalFinal = pd.read_csv('/home/shaihulud10191/codestuff/exercisePython/yipp3.csv')\n"
     ]
    }
   ],
   "source": [
    "finalFinal = pd.read_csv('/home/shaihulud10191/codestuff/exercisePython/yipp3.csv')\n",
    "\n"
   ]
  },
  {
   "cell_type": "code",
   "execution_count": 174,
   "metadata": {},
   "outputs": [],
   "source": [
    "stage = file['Description']"
   ]
  },
  {
   "cell_type": "code",
   "execution_count": 175,
   "metadata": {},
   "outputs": [
    {
     "data": {
      "text/plain": [
       "0         15CM CHRISTMAS GLASS BALL 20 LIGHTS\n",
       "1                          PINK CHERRY LIGHTS\n",
       "2                         WHITE CHERRY LIGHTS\n",
       "3                RECORD FRAME 7\" SINGLE SIZE \n",
       "4              STRAWBERRY CERAMIC TRINKET BOX\n",
       "                         ...                 \n",
       "541905           CHILDREN'S APRON DOLLY GIRL \n",
       "541906          CHILDRENS CUTLERY DOLLY GIRL \n",
       "541907        CHILDRENS CUTLERY CIRCUS PARADE\n",
       "541908          BAKING SET 9 PIECE RETROSPOT \n",
       "541909                                POSTAGE\n",
       "Name: Description, Length: 1067371, dtype: object"
      ]
     },
     "execution_count": 175,
     "metadata": {},
     "output_type": "execute_result"
    }
   ],
   "source": []
  }
 ],
 "metadata": {
  "kernelspec": {
   "display_name": "Python 3",
   "language": "python",
   "name": "python3"
  },
  "language_info": {
   "codemirror_mode": {
    "name": "ipython",
    "version": 3
   },
   "file_extension": ".py",
   "mimetype": "text/x-python",
   "name": "python",
   "nbconvert_exporter": "python",
   "pygments_lexer": "ipython3",
   "version": "3.10.6"
  },
  "orig_nbformat": 4
 },
 "nbformat": 4,
 "nbformat_minor": 2
}
